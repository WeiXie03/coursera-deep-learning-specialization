{
  "cells": [
    {
      "cell_type": "markdown",
      "metadata": {
        "id": "FTKkndDbv2Yv"
      },
      "source": [
        "# Overview\n",
        "A simple first exercise in building a convolutional neural network, and with TensorFlow.\n",
        "\n",
        "### Goal\n",
        "Train a fashion items classifier using the Fashion MNIST dataset labels."
      ]
    },
    {
      "cell_type": "code",
      "execution_count": 1,
      "metadata": {
        "id": "rxftnT50v2Yy",
        "outputId": "7161727c-8175-4807-b515-da31cc8bc204",
        "colab": {
          "base_uri": "https://localhost:8080/",
          "height": 36
        }
      },
      "outputs": [
        {
          "output_type": "execute_result",
          "data": {
            "text/plain": [
              "'2.15.0'"
            ],
            "application/vnd.google.colaboratory.intrinsic+json": {
              "type": "string"
            }
          },
          "metadata": {},
          "execution_count": 1
        }
      ],
      "source": [
        "import tensorflow as tf\n",
        "import numpy as np\n",
        "import matplotlib.pyplot as plt\n",
        "\n",
        "tf.__version__"
      ]
    },
    {
      "cell_type": "markdown",
      "metadata": {
        "id": "AptL73rNv2Yz"
      },
      "source": [
        "# Data"
      ]
    },
    {
      "cell_type": "code",
      "execution_count": 2,
      "metadata": {
        "id": "9O2CEYDRv2Yz",
        "outputId": "8c029bab-068b-4fd9-917a-e238f4322f91",
        "colab": {
          "base_uri": "https://localhost:8080/"
        }
      },
      "outputs": [
        {
          "output_type": "stream",
          "name": "stdout",
          "text": [
            "Downloading data from https://storage.googleapis.com/tensorflow/tf-keras-datasets/train-labels-idx1-ubyte.gz\n",
            "29515/29515 [==============================] - 0s 0us/step\n",
            "Downloading data from https://storage.googleapis.com/tensorflow/tf-keras-datasets/train-images-idx3-ubyte.gz\n",
            "26421880/26421880 [==============================] - 2s 0us/step\n",
            "Downloading data from https://storage.googleapis.com/tensorflow/tf-keras-datasets/t10k-labels-idx1-ubyte.gz\n",
            "5148/5148 [==============================] - 0s 0us/step\n",
            "Downloading data from https://storage.googleapis.com/tensorflow/tf-keras-datasets/t10k-images-idx3-ubyte.gz\n",
            "4422102/4422102 [==============================] - 1s 0us/step\n"
          ]
        }
      ],
      "source": [
        "fashion_mnist = tf.keras.datasets.fashion_mnist\n",
        "\n",
        "(train_imgs, train_labels), (test_imgs, test_labels) = fashion_mnist.load_data()"
      ]
    },
    {
      "cell_type": "code",
      "execution_count": 5,
      "metadata": {
        "id": "Tfv-iufRv2Y0",
        "outputId": "0df0a1d5-33b8-43e7-9003-5d73947c2004",
        "colab": {
          "base_uri": "https://localhost:8080/"
        }
      },
      "outputs": [
        {
          "output_type": "stream",
          "name": "stdout",
          "text": [
            "train_imgs: (60000, 28, 28), <class 'numpy.ndarray'>\n",
            "first image: (28, 28), <class 'numpy.ndarray'>\n"
          ]
        }
      ],
      "source": [
        "print(f\"train_imgs: {train_imgs.shape}, {type(train_imgs)}\")"
      ]
    },
    {
      "cell_type": "code",
      "source": [
        "print(f\"First image: {train_imgs[0].shape}, {type(train_imgs[0])}\")\n",
        "\n",
        "plt.figure()\n",
        "plt.imshow(train_imgs[0], cmap=\"binary\")\n",
        "plt.colorbar()\n",
        "plt.grid(False)\n",
        "plt.show()\n",
        "\n",
        "print(f\"label = {train_labels[0]}\")"
      ],
      "metadata": {
        "colab": {
          "base_uri": "https://localhost:8080/",
          "height": 468
        },
        "id": "13xEmz7swvQB",
        "outputId": "8dbe3542-db59-46f3-d964-1178440b0ccf"
      },
      "execution_count": 7,
      "outputs": [
        {
          "output_type": "stream",
          "name": "stdout",
          "text": [
            "First image: (28, 28), <class 'numpy.ndarray'>\n"
          ]
        },
        {
          "output_type": "display_data",
          "data": {
            "text/plain": [
              "<Figure size 640x480 with 2 Axes>"
            ],
            "image/png": "[encoded data removed]"
          },
          "metadata": {}
        },
        {
          "output_type": "stream",
          "name": "stdout",
          "text": [
            "label = 9\n"
          ]
        }
      ]
    },
    {
      "cell_type": "markdown",
      "source": [
        "Labels are integers. Keep track of which are which according to [dataset docs](https://www.tensorflow.org/api_docs/python/tf/keras/datasets/fashion_mnist/load_data#the_classes_are)."
      ],
      "metadata": {
        "id": "mL94Td1P0nja"
      }
    },
    {
      "cell_type": "code",
      "source": [
        "CLASS_NAMES = [\"T-shirt/top\", \"Trouser\", \"Pullover\", \"Dress\", \"Coat\",\n",
        "               \"Sandal\", \"Shirt\", \"Sneaker\", \"Bag\", \"Ankle boot\"]"
      ],
      "metadata": {
        "id": "bT-L1u2X0Cd7"
      },
      "execution_count": 9,
      "outputs": []
    },
    {
      "cell_type": "markdown",
      "source": [
        "_Important_\n",
        "### Normalize the Data\n",
        "RGB image--every pixel is a triplet of three values each $\\in [0, 256)$."
      ],
      "metadata": {
        "id": "KOdO2KYw1Nq3"
      }
    },
    {
      "cell_type": "code",
      "source": [
        "train_imgs = train_imgs / 255.0\n",
        "test_imgs = test_imgs / 255.0"
      ],
      "metadata": {
        "id": "PucOpW4S1EMq"
      },
      "execution_count": 11,
      "outputs": []
    },
    {
      "cell_type": "code",
      "source": [
        "print(f\"First image: {train_imgs[0].shape}, {type(train_imgs[0])}\")\n",
        "\n",
        "plt.figure()\n",
        "plt.imshow(train_imgs[0], cmap=\"binary\")\n",
        "plt.colorbar()\n",
        "plt.grid(False)\n",
        "plt.show()\n",
        "\n",
        "print(f\"label = {CLASS_NAMES[train_labels[0]]}\")"
      ],
      "metadata": {
        "outputId": "905efb7d-e8ba-4e88-ae66-b8759758d37f",
        "colab": {
          "base_uri": "https://localhost:8080/",
          "height": 468
        },
        "id": "H6Xm8TbG1_pf"
      },
      "execution_count": 13,
      "outputs": [
        {
          "output_type": "stream",
          "name": "stdout",
          "text": [
            "First image: (28, 28), <class 'numpy.ndarray'>\n"
          ]
        },
        {
          "output_type": "display_data",
          "data": {
            "text/plain": [
              "<Figure size 640x480 with 2 Axes>"
            ],
            "image/png": "[encoded data removed]"
          },
          "metadata": {}
        },
        {
          "output_type": "stream",
          "name": "stdout",
          "text": [
            "label = Ankle boot\n"
          ]
        }
      ]
    },
    {
      "cell_type": "markdown",
      "source": [
        "# Set up the Model\n",
        "Since this is image classification, let's fine tune a variant of ResNet, DenseNet."
      ],
      "metadata": {
        "id": "BmkAVNhq5LMo"
      }
    },
    {
      "cell_type": "code",
      "source": [],
      "metadata": {
        "id": "PCS4ZTrt1xcA"
      },
      "execution_count": null,
      "outputs": []
    }
  ],
  "metadata": {
    "kernelspec": {
      "display_name": "Python 3",
      "name": "python3"
    },
    "language_info": {
      "codemirror_mode": {
        "name": "ipython",
        "version": 3
      },
      "file_extension": ".py",
      "mimetype": "text/x-python",
      "name": "python",
      "nbconvert_exporter": "python",
      "pygments_lexer": "ipython3",
      "version": "3.10.13"
    },
    "colab": {
      "provenance": [],
      "gpuType": "T4"
    },
    "accelerator": "GPU"
  },
  "nbformat": 4,
  "nbformat_minor": 0
}