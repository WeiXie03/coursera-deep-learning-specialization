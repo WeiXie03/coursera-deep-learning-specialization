{
  "cells": [
    {
      "cell_type": "markdown",
      "metadata": {
        "id": "FTKkndDbv2Yv"
      },
      "source": [
        "# Overview\n",
        "A simple first exercise in building a convolutional neural network, and with TensorFlow.\n",
        "\n",
        "### Goal\n",
        "Train a fashion items classifier using the Fashion MNIST dataset labels."
      ]
    },
    {
      "cell_type": "code",
      "execution_count": 2,
      "metadata": {
        "colab": {
          "base_uri": "https://localhost:8080/",
          "height": 36
        },
        "id": "rxftnT50v2Yy",
        "outputId": "583fc478-e8c1-4329-ac6f-4b6ec0b1d1a0"
      },
      "outputs": [
        {
          "output_type": "execute_result",
          "data": {
            "text/plain": [
              "'2.15.0'"
            ],
            "application/vnd.google.colaboratory.intrinsic+json": {
              "type": "string"
            }
          },
          "metadata": {},
          "execution_count": 2
        }
      ],
      "source": [
        "import tensorflow as tf\n",
        "import numpy as np\n",
        "import matplotlib.pyplot as plt\n",
        "\n",
        "tf.__version__"
      ]
    },
    {
      "cell_type": "markdown",
      "metadata": {
        "id": "AptL73rNv2Yz"
      },
      "source": [
        "# Data"
      ]
    },
    {
      "cell_type": "code",
      "execution_count": 3,
      "metadata": {
        "colab": {
          "base_uri": "https://localhost:8080/"
        },
        "id": "9O2CEYDRv2Yz",
        "outputId": "70c49d76-82cb-419b-ccb7-f0ae565ede4a"
      },
      "outputs": [
        {
          "output_type": "stream",
          "name": "stdout",
          "text": [
            "Downloading data from https://storage.googleapis.com/tensorflow/tf-keras-datasets/train-labels-idx1-ubyte.gz\n",
            "29515/29515 [==============================] - 0s 0us/step\n",
            "Downloading data from https://storage.googleapis.com/tensorflow/tf-keras-datasets/train-images-idx3-ubyte.gz\n",
            "26421880/26421880 [==============================] - 0s 0us/step\n",
            "Downloading data from https://storage.googleapis.com/tensorflow/tf-keras-datasets/t10k-labels-idx1-ubyte.gz\n",
            "5148/5148 [==============================] - 0s 0us/step\n",
            "Downloading data from https://storage.googleapis.com/tensorflow/tf-keras-datasets/t10k-images-idx3-ubyte.gz\n",
            "4422102/4422102 [==============================] - 0s 0us/step\n"
          ]
        }
      ],
      "source": [
        "fashion_mnist = tf.keras.datasets.fashion_mnist\n",
        "\n",
        "(train_imgs, train_labels), (test_imgs, test_labels) = fashion_mnist.load_data()"
      ]
    },
    {
      "cell_type": "code",
      "execution_count": 4,
      "metadata": {
        "colab": {
          "base_uri": "https://localhost:8080/"
        },
        "id": "Tfv-iufRv2Y0",
        "outputId": "2b1c28a9-cf1a-48be-e3c1-e55eb07e4726"
      },
      "outputs": [
        {
          "output_type": "stream",
          "name": "stdout",
          "text": [
            "train_imgs: (60000, 28, 28), <class 'numpy.ndarray'>\n"
          ]
        }
      ],
      "source": [
        "print(f\"train_imgs: {train_imgs.shape}, {type(train_imgs)}\")"
      ]
    },
    {
      "cell_type": "code",
      "source": [
        "print(f\"First image: {train_imgs[0].shape}, {type(train_imgs[0])}\")\n",
        "\n",
        "plt.figure()\n",
        "plt.imshow(train_imgs[0], cmap=\"binary\")\n",
        "plt.colorbar()\n",
        "plt.grid(False)\n",
        "plt.show()\n",
        "\n",
        "print(f\"label = {train_labels[0]}\")"
      ],
      "metadata": {
        "colab": {
          "base_uri": "https://localhost:8080/",
          "height": 468
        },
        "id": "13xEmz7swvQB",
        "outputId": "501d8eb0-aab1-40cf-cb70-1b974110aaf4"
      },
      "execution_count": 5,
      "outputs": [
        {
          "output_type": "stream",
          "name": "stdout",
          "text": [
            "First image: (28, 28), <class 'numpy.ndarray'>\n"
          ]
        },
        {
          "output_type": "display_data",
          "data": {
            "text/plain": [
              "<Figure size 640x480 with 2 Axes>"
            ],
            "image/png": "[encoded data removed]"
          },
          "metadata": {}
        },
        {
          "output_type": "stream",
          "name": "stdout",
          "text": [
            "label = 9\n"
          ]
        }
      ]
    },
    {
      "cell_type": "code",
      "execution_count": 6,
      "metadata": {
        "colab": {
          "base_uri": "https://localhost:8080/"
        },
        "outputId": "f1bbbede-0797-4aa0-e7a9-fa49c80f2fd1",
        "id": "Ucc2URkeNLGp"
      },
      "outputs": [
        {
          "output_type": "stream",
          "name": "stdout",
          "text": [
            "test set size: 60000\n"
          ]
        }
      ],
      "source": [
        "print(f\"test set size: {train_labels.size}\")"
      ]
    },
    {
      "cell_type": "markdown",
      "source": [
        "Labels are integers. Keep track of which are which according to [dataset docs](https://www.tensorflow.org/api_docs/python/tf/keras/datasets/fashion_mnist/load_data#the_classes_are)."
      ],
      "metadata": {
        "id": "mL94Td1P0nja"
      }
    },
    {
      "cell_type": "code",
      "source": [
        "CLASS_NAMES = [\"T-shirt/top\", \"Trouser\", \"Pullover\", \"Dress\", \"Coat\",\n",
        "               \"Sandal\", \"Shirt\", \"Sneaker\", \"Bag\", \"Ankle boot\"]"
      ],
      "metadata": {
        "id": "bT-L1u2X0Cd7"
      },
      "execution_count": 7,
      "outputs": []
    },
    {
      "cell_type": "markdown",
      "source": [
        "_Important_\n",
        "### Normalize the Data\n",
        "RGB image--every pixel is a triplet of three values each $\\in [0, 256)$."
      ],
      "metadata": {
        "id": "KOdO2KYw1Nq3"
      }
    },
    {
      "cell_type": "code",
      "source": [
        "train_imgs = train_imgs / 255.0\n",
        "test_imgs = test_imgs / 255.0"
      ],
      "metadata": {
        "id": "PucOpW4S1EMq"
      },
      "execution_count": 8,
      "outputs": []
    },
    {
      "cell_type": "code",
      "source": [
        "print(f\"First image: {train_imgs[0].shape}, {type(train_imgs[0])}\")\n",
        "\n",
        "plt.figure()\n",
        "plt.imshow(train_imgs[0], cmap=\"binary\")\n",
        "plt.colorbar()\n",
        "plt.grid(False)\n",
        "plt.show()\n",
        "\n",
        "print(f\"label = {CLASS_NAMES[train_labels[0]]}\")"
      ],
      "metadata": {
        "outputId": "dc4c5b87-4028-48de-fbb9-9716bc8fc03d",
        "colab": {
          "base_uri": "https://localhost:8080/",
          "height": 473
        },
        "id": "H6Xm8TbG1_pf"
      },
      "execution_count": 9,
      "outputs": [
        {
          "output_type": "stream",
          "name": "stdout",
          "text": [
            "First image: (28, 28), <class 'numpy.ndarray'>\n"
          ]
        },
        {
          "output_type": "display_data",
          "data": {
            "text/plain": [
              "<Figure size 640x480 with 2 Axes>"
            ],
            "image/png": "[encoded data removed]"
          },
          "metadata": {}
        },
        {
          "output_type": "stream",
          "name": "stdout",
          "text": [
            "label = Ankle boot\n"
          ]
        }
      ]
    },
    {
      "cell_type": "markdown",
      "source": [
        "# Set up the Model\n",
        "Since this is image classification, let's fine tune a variant of ResNet, MobileNet."
      ],
      "metadata": {
        "id": "BmkAVNhq5LMo"
      }
    },
    {
      "cell_type": "markdown",
      "source": [
        "Slap on some flips and rotation steps beforehand."
      ],
      "metadata": {
        "id": "pQtzRSYcQCUi"
      }
    },
    {
      "cell_type": "code",
      "source": [
        "aug_data = tf.keras.Sequential([\n",
        "  tf.keras.layers.RandomFlip(\"horizontal\"),\n",
        "  tf.keras.layers.RandomRotation(0.2),\n",
        "])"
      ],
      "metadata": {
        "id": "PCS4ZTrt1xcA"
      },
      "execution_count": 10,
      "outputs": []
    },
    {
      "cell_type": "markdown",
      "source": [
        "Fine-tuning => throw out and replace last (classification) layer. Leave all other layers be from now."
      ],
      "metadata": {
        "id": "7PVXu1CKvIz1"
      }
    },
    {
      "cell_type": "code",
      "source": [
        "base_model = tf.keras.applications.MobileNetV3Small(input_shape=train_imgs[0].shape,\n",
        "                                                    include_top=False,\n",
        "                                                    include_preprocessing=True)\n",
        "base_model.trainable = False"
      ],
      "metadata": {
        "id": "13Zj-A7Fmo29"
      },
      "execution_count": null,
      "outputs": []
    }
  ],
  "metadata": {
    "kernelspec": {
      "display_name": "Python 3",
      "name": "python3"
    },
    "language_info": {
      "codemirror_mode": {
        "name": "ipython",
        "version": 3
      },
      "file_extension": ".py",
      "mimetype": "text/x-python",
      "name": "python",
      "nbconvert_exporter": "python",
      "pygments_lexer": "ipython3",
      "version": "3.10.13"
    },
    "colab": {
      "provenance": [],
      "gpuType": "T4"
    },
    "accelerator": "GPU"
  },
  "nbformat": 4,
  "nbformat_minor": 0
}